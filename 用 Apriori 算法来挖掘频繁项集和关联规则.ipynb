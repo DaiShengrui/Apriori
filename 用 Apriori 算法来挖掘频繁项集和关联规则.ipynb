{
 "cells": [
  {
   "cell_type": "code",
   "execution_count": 2,
   "id": "f1ae3a5d",
   "metadata": {},
   "outputs": [
    {
     "name": "stdout",
     "output_type": "stream",
     "text": [
      "{}\n",
      "[]\n"
     ]
    }
   ],
   "source": [
    "# -*- coding: utf-8 -*-\n",
    "from efficient_apriori import apriori\n",
    "import csv\n",
    "director = u'宁浩'\n",
    "file_name = './'+director+'.csv'\n",
    "lists = csv.reader(open(file_name, 'r', encoding='utf-8-sig'))\n",
    "# 数据加载\n",
    "data = []\n",
    "for names in lists:\n",
    "     name_new = []\n",
    "     for name in names:\n",
    "           # 去掉演员数据中的空格\n",
    "           name_new.append(name.strip())\n",
    "     data.append(name_new[1:])\n",
    "# 挖掘频繁项集和关联规则\n",
    "itemsets, rules = apriori(data, min_support=0.5,  min_confidence=1)\n",
    "print(itemsets)\n",
    "print(rules)"
   ]
  }
 ],
 "metadata": {
  "kernelspec": {
   "display_name": "pytorch",
   "language": "python",
   "name": "pytorch"
  },
  "language_info": {
   "codemirror_mode": {
    "name": "ipython",
    "version": 3
   },
   "file_extension": ".py",
   "mimetype": "text/x-python",
   "name": "python",
   "nbconvert_exporter": "python",
   "pygments_lexer": "ipython3",
   "version": "3.9.15"
  }
 },
 "nbformat": 4,
 "nbformat_minor": 5
}
